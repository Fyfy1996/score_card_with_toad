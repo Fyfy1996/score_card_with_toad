{
 "cells": [
  {
   "cell_type": "markdown",
   "metadata": {},
   "source": [
    "## Toad的评分卡建立过程"
   ]
  },
  {
   "cell_type": "code",
   "execution_count": 1,
   "metadata": {},
   "outputs": [],
   "source": [
    "import pandas as pd\n",
    "import datetime\n",
    "from sklearn.model_selection import train_test_split\n",
    "\n",
    "from sklearn.metrics import roc_curve, confusion_matrix,auc\n",
    "import sys \n",
    "sys.path.append(\"..\")\n",
    "from utils import  cate2num, get_threshold, get_RocCurve, get_KS\n",
    "import gc\n",
    "import toad\n",
    "from toad.plot import bin_plot, badrate_plot"
   ]
  },
  {
   "cell_type": "code",
   "execution_count": 2,
   "metadata": {},
   "outputs": [],
   "source": [
    "# load training data from oracle\n",
    "raw_df = pd.read_csv(\"german.data-numeric\", header=None, delimiter=\"\\s+\")"
   ]
  },
  {
   "cell_type": "code",
   "execution_count": 3,
   "metadata": {},
   "outputs": [
    {
     "name": "stdout",
     "output_type": "stream",
     "text": [
      "DF size:  (1000, 25)\n"
     ]
    },
    {
     "data": {
      "text/html": [
       "<div>\n",
       "<style scoped>\n",
       "    .dataframe tbody tr th:only-of-type {\n",
       "        vertical-align: middle;\n",
       "    }\n",
       "\n",
       "    .dataframe tbody tr th {\n",
       "        vertical-align: top;\n",
       "    }\n",
       "\n",
       "    .dataframe thead th {\n",
       "        text-align: right;\n",
       "    }\n",
       "</style>\n",
       "<table border=\"1\" class=\"dataframe\">\n",
       "  <thead>\n",
       "    <tr style=\"text-align: right;\">\n",
       "      <th></th>\n",
       "      <th>0</th>\n",
       "      <th>1</th>\n",
       "      <th>2</th>\n",
       "      <th>3</th>\n",
       "      <th>4</th>\n",
       "      <th>5</th>\n",
       "      <th>6</th>\n",
       "      <th>7</th>\n",
       "      <th>8</th>\n",
       "      <th>9</th>\n",
       "      <th>...</th>\n",
       "      <th>15</th>\n",
       "      <th>16</th>\n",
       "      <th>17</th>\n",
       "      <th>18</th>\n",
       "      <th>19</th>\n",
       "      <th>20</th>\n",
       "      <th>21</th>\n",
       "      <th>22</th>\n",
       "      <th>23</th>\n",
       "      <th>24</th>\n",
       "    </tr>\n",
       "  </thead>\n",
       "  <tbody>\n",
       "    <tr>\n",
       "      <th>0</th>\n",
       "      <td>1</td>\n",
       "      <td>6</td>\n",
       "      <td>4</td>\n",
       "      <td>12</td>\n",
       "      <td>5</td>\n",
       "      <td>5</td>\n",
       "      <td>3</td>\n",
       "      <td>4</td>\n",
       "      <td>1</td>\n",
       "      <td>67</td>\n",
       "      <td>...</td>\n",
       "      <td>0</td>\n",
       "      <td>0</td>\n",
       "      <td>1</td>\n",
       "      <td>0</td>\n",
       "      <td>0</td>\n",
       "      <td>1</td>\n",
       "      <td>0</td>\n",
       "      <td>0</td>\n",
       "      <td>1</td>\n",
       "      <td>1</td>\n",
       "    </tr>\n",
       "    <tr>\n",
       "      <th>1</th>\n",
       "      <td>2</td>\n",
       "      <td>48</td>\n",
       "      <td>2</td>\n",
       "      <td>60</td>\n",
       "      <td>1</td>\n",
       "      <td>3</td>\n",
       "      <td>2</td>\n",
       "      <td>2</td>\n",
       "      <td>1</td>\n",
       "      <td>22</td>\n",
       "      <td>...</td>\n",
       "      <td>0</td>\n",
       "      <td>0</td>\n",
       "      <td>1</td>\n",
       "      <td>0</td>\n",
       "      <td>0</td>\n",
       "      <td>1</td>\n",
       "      <td>0</td>\n",
       "      <td>0</td>\n",
       "      <td>1</td>\n",
       "      <td>2</td>\n",
       "    </tr>\n",
       "    <tr>\n",
       "      <th>2</th>\n",
       "      <td>4</td>\n",
       "      <td>12</td>\n",
       "      <td>4</td>\n",
       "      <td>21</td>\n",
       "      <td>1</td>\n",
       "      <td>4</td>\n",
       "      <td>3</td>\n",
       "      <td>3</td>\n",
       "      <td>1</td>\n",
       "      <td>49</td>\n",
       "      <td>...</td>\n",
       "      <td>0</td>\n",
       "      <td>0</td>\n",
       "      <td>1</td>\n",
       "      <td>0</td>\n",
       "      <td>0</td>\n",
       "      <td>1</td>\n",
       "      <td>0</td>\n",
       "      <td>1</td>\n",
       "      <td>0</td>\n",
       "      <td>1</td>\n",
       "    </tr>\n",
       "    <tr>\n",
       "      <th>3</th>\n",
       "      <td>1</td>\n",
       "      <td>42</td>\n",
       "      <td>2</td>\n",
       "      <td>79</td>\n",
       "      <td>1</td>\n",
       "      <td>4</td>\n",
       "      <td>3</td>\n",
       "      <td>4</td>\n",
       "      <td>2</td>\n",
       "      <td>45</td>\n",
       "      <td>...</td>\n",
       "      <td>0</td>\n",
       "      <td>0</td>\n",
       "      <td>0</td>\n",
       "      <td>0</td>\n",
       "      <td>0</td>\n",
       "      <td>0</td>\n",
       "      <td>0</td>\n",
       "      <td>0</td>\n",
       "      <td>1</td>\n",
       "      <td>1</td>\n",
       "    </tr>\n",
       "    <tr>\n",
       "      <th>4</th>\n",
       "      <td>1</td>\n",
       "      <td>24</td>\n",
       "      <td>3</td>\n",
       "      <td>49</td>\n",
       "      <td>1</td>\n",
       "      <td>3</td>\n",
       "      <td>3</td>\n",
       "      <td>4</td>\n",
       "      <td>4</td>\n",
       "      <td>53</td>\n",
       "      <td>...</td>\n",
       "      <td>1</td>\n",
       "      <td>0</td>\n",
       "      <td>1</td>\n",
       "      <td>0</td>\n",
       "      <td>0</td>\n",
       "      <td>0</td>\n",
       "      <td>0</td>\n",
       "      <td>0</td>\n",
       "      <td>1</td>\n",
       "      <td>2</td>\n",
       "    </tr>\n",
       "  </tbody>\n",
       "</table>\n",
       "<p>5 rows × 25 columns</p>\n",
       "</div>"
      ],
      "text/plain": [
       "   0   1   2   3   4   5   6   7   8   9   ...  15  16  17  18  19  20  21  \\\n",
       "0   1   6   4  12   5   5   3   4   1  67  ...   0   0   1   0   0   1   0   \n",
       "1   2  48   2  60   1   3   2   2   1  22  ...   0   0   1   0   0   1   0   \n",
       "2   4  12   4  21   1   4   3   3   1  49  ...   0   0   1   0   0   1   0   \n",
       "3   1  42   2  79   1   4   3   4   2  45  ...   0   0   0   0   0   0   0   \n",
       "4   1  24   3  49   1   3   3   4   4  53  ...   1   0   1   0   0   0   0   \n",
       "\n",
       "   22  23  24  \n",
       "0   0   1   1  \n",
       "1   0   1   2  \n",
       "2   1   0   1  \n",
       "3   0   1   1  \n",
       "4   0   1   2  \n",
       "\n",
       "[5 rows x 25 columns]"
      ]
     },
     "execution_count": 3,
     "metadata": {},
     "output_type": "execute_result"
    }
   ],
   "source": [
    "print(\"DF size: \", raw_df.shape)\n",
    "raw_df.head()"
   ]
  },
  {
   "cell_type": "code",
   "execution_count": 4,
   "metadata": {},
   "outputs": [],
   "source": [
    "renames = { i:\"FEA_{}\".format(i) for i in range(raw_df.shape[1]-1)}\n",
    "renames[24] = \"Y\"\n",
    "raw_df.rename(columns=renames,inplace=True)\n",
    "raw_df[\"Y\"] = raw_df[\"Y\"].apply(lambda x: 0 if x == 1 else 1)"
   ]
  },
  {
   "cell_type": "code",
   "execution_count": 5,
   "metadata": {},
   "outputs": [
    {
     "name": "stdout",
     "output_type": "stream",
     "text": [
      "Train/ test lenth, (750, 24) (250, 24)\n"
     ]
    }
   ],
   "source": [
    "X, y = raw_df.drop(columns=['Y']), raw_df[\"Y\"].astype(\"int\")\n",
    "\n",
    "X_train,  X_test, y_train, y_test = train_test_split(X, y, test_size=0.25, random_state=2021, stratify=y)\n",
    "print(\"Train/ test lenth,\", X_train.shape, X_test.shape)"
   ]
  },
  {
   "cell_type": "code",
   "execution_count": 6,
   "metadata": {},
   "outputs": [
    {
     "name": "stdout",
     "output_type": "stream",
     "text": [
      "Keep:  15\n",
      "Drop empty:  0\n",
      "drop iv:  9\n",
      "drop corr:  0\n"
     ]
    }
   ],
   "source": [
    "# droping cols first time \n",
    "train2, droplist = toad.selection.select(X_train, target=y_train,\n",
    "                                         empty=0.6, iv = 0.02, corr = 0.7,\n",
    "                                         return_drop=True)\n",
    "print(\"Keep: \", train2.shape[1])\n",
    "print(\"Drop empty: \", len(droplist[\"empty\"]))\n",
    "print(\"drop iv: \", len(droplist[\"iv\"]))\n",
    "print(\"drop corr: \",len(droplist[\"corr\"]))"
   ]
  },
  {
   "cell_type": "code",
   "execution_count": 7,
   "metadata": {
    "scrolled": true
   },
   "outputs": [
    {
     "name": "stdout",
     "output_type": "stream",
     "text": [
      "Object `combiner.fit` not found.\n"
     ]
    }
   ],
   "source": [
    "?combiner.fit"
   ]
  },
  {
   "cell_type": "code",
   "execution_count": 8,
   "metadata": {},
   "outputs": [
    {
     "name": "stdout",
     "output_type": "stream",
     "text": [
      "=================Staring trainning binning==================\n"
     ]
    }
   ],
   "source": [
    "print(\"Staring trainning binning\".center(60,\"=\"))\n",
    "combiner = toad.transform.Combiner()\n",
    "combiner.fit(train2, y_train, method=\"chi\", min_samples=0.05, empty_separate=True)\n",
    "\n",
    "bins = combiner.export()\n",
    "\n",
    "train3 = combiner.transform(train2)\n",
    "test3  = combiner.transform(X_test[train3.columns])"
   ]
  },
  {
   "cell_type": "code",
   "execution_count": 9,
   "metadata": {},
   "outputs": [
    {
     "name": "stdout",
     "output_type": "stream",
     "text": [
      "========================Staring WOE=========================\n"
     ]
    }
   ],
   "source": [
    "print(\"Staring WOE\".center(60,\"=\"))\n",
    "trans = toad.transform.WOETransformer()\n",
    "\n",
    "train_woe = trans.fit_transform(train3, y_train) #, exclude=useless_cols)\n",
    "test_woe  = trans.transform(test3[train3.columns])"
   ]
  },
  {
   "cell_type": "code",
   "execution_count": 10,
   "metadata": {},
   "outputs": [
    {
     "data": {
      "text/html": [
       "<div>\n",
       "<style scoped>\n",
       "    .dataframe tbody tr th:only-of-type {\n",
       "        vertical-align: middle;\n",
       "    }\n",
       "\n",
       "    .dataframe tbody tr th {\n",
       "        vertical-align: top;\n",
       "    }\n",
       "\n",
       "    .dataframe thead th {\n",
       "        text-align: right;\n",
       "    }\n",
       "</style>\n",
       "<table border=\"1\" class=\"dataframe\">\n",
       "  <thead>\n",
       "    <tr style=\"text-align: right;\">\n",
       "      <th></th>\n",
       "      <th>iv</th>\n",
       "      <th>gini</th>\n",
       "      <th>entropy</th>\n",
       "      <th>unique</th>\n",
       "    </tr>\n",
       "  </thead>\n",
       "  <tbody>\n",
       "    <tr>\n",
       "      <th>FEA_0</th>\n",
       "      <td>0.620594</td>\n",
       "      <td>0.371760</td>\n",
       "      <td>0.549659</td>\n",
       "      <td>4.0</td>\n",
       "    </tr>\n",
       "    <tr>\n",
       "      <th>FEA_1</th>\n",
       "      <td>0.311953</td>\n",
       "      <td>0.393785</td>\n",
       "      <td>0.579226</td>\n",
       "      <td>8.0</td>\n",
       "    </tr>\n",
       "    <tr>\n",
       "      <th>FEA_2</th>\n",
       "      <td>0.263143</td>\n",
       "      <td>0.396418</td>\n",
       "      <td>0.583572</td>\n",
       "      <td>4.0</td>\n",
       "    </tr>\n",
       "    <tr>\n",
       "      <th>FEA_3</th>\n",
       "      <td>0.216896</td>\n",
       "      <td>0.401209</td>\n",
       "      <td>0.588345</td>\n",
       "      <td>3.0</td>\n",
       "    </tr>\n",
       "    <tr>\n",
       "      <th>FEA_4</th>\n",
       "      <td>0.200139</td>\n",
       "      <td>0.404831</td>\n",
       "      <td>0.591154</td>\n",
       "      <td>4.0</td>\n",
       "    </tr>\n",
       "    <tr>\n",
       "      <th>FEA_9</th>\n",
       "      <td>0.152117</td>\n",
       "      <td>0.406824</td>\n",
       "      <td>0.595114</td>\n",
       "      <td>7.0</td>\n",
       "    </tr>\n",
       "    <tr>\n",
       "      <th>FEA_8</th>\n",
       "      <td>0.122510</td>\n",
       "      <td>0.409044</td>\n",
       "      <td>0.598013</td>\n",
       "      <td>4.0</td>\n",
       "    </tr>\n",
       "    <tr>\n",
       "      <th>FEA_20</th>\n",
       "      <td>0.056699</td>\n",
       "      <td>0.414834</td>\n",
       "      <td>0.604856</td>\n",
       "      <td>2.0</td>\n",
       "    </tr>\n",
       "    <tr>\n",
       "      <th>FEA_15</th>\n",
       "      <td>0.056065</td>\n",
       "      <td>0.414807</td>\n",
       "      <td>0.604895</td>\n",
       "      <td>2.0</td>\n",
       "    </tr>\n",
       "    <tr>\n",
       "      <th>FEA_16</th>\n",
       "      <td>0.049728</td>\n",
       "      <td>0.416250</td>\n",
       "      <td>0.605952</td>\n",
       "      <td>2.0</td>\n",
       "    </tr>\n",
       "    <tr>\n",
       "      <th>FEA_5</th>\n",
       "      <td>0.040550</td>\n",
       "      <td>0.416391</td>\n",
       "      <td>0.606603</td>\n",
       "      <td>5.0</td>\n",
       "    </tr>\n",
       "    <tr>\n",
       "      <th>FEA_10</th>\n",
       "      <td>0.036945</td>\n",
       "      <td>0.416528</td>\n",
       "      <td>0.606913</td>\n",
       "      <td>2.0</td>\n",
       "    </tr>\n",
       "    <tr>\n",
       "      <th>FEA_6</th>\n",
       "      <td>0.034898</td>\n",
       "      <td>0.416868</td>\n",
       "      <td>0.607182</td>\n",
       "      <td>2.0</td>\n",
       "    </tr>\n",
       "    <tr>\n",
       "      <th>FEA_14</th>\n",
       "      <td>0.000000</td>\n",
       "      <td>0.420000</td>\n",
       "      <td>0.610864</td>\n",
       "      <td>1.0</td>\n",
       "    </tr>\n",
       "    <tr>\n",
       "      <th>FEA_18</th>\n",
       "      <td>0.000000</td>\n",
       "      <td>0.420000</td>\n",
       "      <td>0.610864</td>\n",
       "      <td>1.0</td>\n",
       "    </tr>\n",
       "  </tbody>\n",
       "</table>\n",
       "</div>"
      ],
      "text/plain": [
       "              iv      gini   entropy  unique\n",
       "FEA_0   0.620594  0.371760  0.549659     4.0\n",
       "FEA_1   0.311953  0.393785  0.579226     8.0\n",
       "FEA_2   0.263143  0.396418  0.583572     4.0\n",
       "FEA_3   0.216896  0.401209  0.588345     3.0\n",
       "FEA_4   0.200139  0.404831  0.591154     4.0\n",
       "FEA_9   0.152117  0.406824  0.595114     7.0\n",
       "FEA_8   0.122510  0.409044  0.598013     4.0\n",
       "FEA_20  0.056699  0.414834  0.604856     2.0\n",
       "FEA_15  0.056065  0.414807  0.604895     2.0\n",
       "FEA_16  0.049728  0.416250  0.605952     2.0\n",
       "FEA_5   0.040550  0.416391  0.606603     5.0\n",
       "FEA_10  0.036945  0.416528  0.606913     2.0\n",
       "FEA_6   0.034898  0.416868  0.607182     2.0\n",
       "FEA_14  0.000000  0.420000  0.610864     1.0\n",
       "FEA_18  0.000000  0.420000  0.610864     1.0"
      ]
     },
     "execution_count": 10,
     "metadata": {},
     "output_type": "execute_result"
    }
   ],
   "source": [
    "quality = toad.quality(train_woe, target=y_train)\n",
    "quality"
   ]
  },
  {
   "cell_type": "code",
   "execution_count": 11,
   "metadata": {},
   "outputs": [
    {
     "name": "stdout",
     "output_type": "stream",
     "text": [
      "Keeping 9 cols\n"
     ]
    }
   ],
   "source": [
    "high_iv_cols = list(quality.loc[quality[\"iv\"] >= 0.05,:].index)\n",
    "print(\"Keeping {} cols\".format(len(high_iv_cols)))\n",
    "\n",
    "train_ivs = train_woe[high_iv_cols]\n",
    "test_ivs = test_woe[high_iv_cols]"
   ]
  },
  {
   "cell_type": "code",
   "execution_count": 12,
   "metadata": {},
   "outputs": [
    {
     "name": "stdout",
     "output_type": "stream",
     "text": [
      "Keep:  9\n",
      "Drop empty:  0\n",
      "drop iv:  0\n",
      "drop corr:  0\n"
     ]
    }
   ],
   "source": [
    "# droping cols 2nd time, cause the correlation will change due to binning and woe\n",
    "train_ivs, droplist = toad.selection.select(train_ivs, target=y_train,\n",
    "                                         empty=0.6, iv = 0.02, corr = 0.7,\n",
    "                                         return_drop=True)\n",
    "print(\"Keep: \", train_ivs.shape[1])\n",
    "print(\"Drop empty: \", len(droplist[\"empty\"]))\n",
    "print(\"drop iv: \", len(droplist[\"iv\"]))\n",
    "print(\"drop corr: \",len(droplist[\"corr\"]))"
   ]
  },
  {
   "cell_type": "code",
   "execution_count": 13,
   "metadata": {},
   "outputs": [],
   "source": [
    "### Using l1+l2 to select features\n",
    "\n",
    "from sklearn.linear_model import LogisticRegression"
   ]
  },
  {
   "cell_type": "code",
   "execution_count": 14,
   "metadata": {},
   "outputs": [
    {
     "data": {
      "text/plain": [
       "LogisticRegression(C=0.1, l1_ratio=1, n_jobs=6, penalty='elasticnet',\n",
       "                   solver='saga')"
      ]
     },
     "execution_count": 14,
     "metadata": {},
     "output_type": "execute_result"
    }
   ],
   "source": [
    "clf = LogisticRegression(penalty=\"elasticnet\", \n",
    "                        C=0.1,\n",
    "                        solver=\"saga\", n_jobs=6,\n",
    "                        l1_ratio=1)\n",
    "clf.fit(train_ivs, y_train)"
   ]
  },
  {
   "cell_type": "code",
   "execution_count": 15,
   "metadata": {},
   "outputs": [
    {
     "data": {
      "text/plain": [
       "[0.7382315068662866,\n",
       " 0.5796215057484497,\n",
       " 0.515005199886822,\n",
       " 0.47207517034683144,\n",
       " 0.3561948083616271,\n",
       " 0.34303942002518417,\n",
       " 0.0,\n",
       " 0.0,\n",
       " 0.0]"
      ]
     },
     "execution_count": 15,
     "metadata": {},
     "output_type": "execute_result"
    }
   ],
   "source": [
    "coefs = clf.coef_.tolist()[0]\n",
    "coefs"
   ]
  },
  {
   "cell_type": "code",
   "execution_count": 16,
   "metadata": {},
   "outputs": [
    {
     "name": "stdout",
     "output_type": "stream",
     "text": [
      "The # of feas in train_woe_step, 8\n"
     ]
    }
   ],
   "source": [
    "### Using stepwise to select feas\n",
    "train_woe_step = toad.selection.stepwise(train_ivs, y_train,\n",
    "                                         # exclude=useless_cols,\n",
    "                                         direction=\"both\",\n",
    "                                         criterion=\"aic\",\n",
    "                                         estimator=\"lr\",\n",
    "                                         intercept=True)\n",
    "print(\"The # of feas in train_woe_step, {}\".format(train_woe_step.shape[1]))"
   ]
  },
  {
   "cell_type": "code",
   "execution_count": 17,
   "metadata": {},
   "outputs": [],
   "source": [
    "## Save configs for lr_utils.LR_preprocessing\n",
    "\n",
    "final_cols = list(train_woe_step.columns)\n",
    "final_bins = {}\n",
    "for k,v in bins.items():\n",
    "    if k in final_cols:\n",
    "        final_bins[k] = v\n",
    "\n",
    "final_woes ={}\n",
    "woes = trans.rules\n",
    "for k,v in woes.items():\n",
    "    if k in final_cols:\n",
    "        final_woes[k] = v\n",
    "\n",
    "configs = {\n",
    "    \"keep_cols\": list(train_woe_step.columns) ,\n",
    "    \"bins\":  final_bins,\n",
    "    \"woes\": woes\n",
    "}\n",
    "with open(\"lr_config_no_zero\", \"w\", encoding=\"utf-8\") as f:\n",
    "    f.write(str(configs))"
   ]
  },
  {
   "cell_type": "code",
   "execution_count": 18,
   "metadata": {
    "scrolled": true
   },
   "outputs": [
    {
     "data": {
      "text/plain": [
       "{'keep_cols': ['FEA_0',\n",
       "  'FEA_1',\n",
       "  'FEA_2',\n",
       "  'FEA_3',\n",
       "  'FEA_4',\n",
       "  'FEA_9',\n",
       "  'FEA_8',\n",
       "  'FEA_15'],\n",
       " 'bins': {'FEA_0': [2, 3, 4],\n",
       "  'FEA_1': [9, 12, 13, 18, 20, 36, 45],\n",
       "  'FEA_2': [2, 3, 4],\n",
       "  'FEA_3': [14, 39],\n",
       "  'FEA_4': [2, 3, 5],\n",
       "  'FEA_8': [2, 3, 4],\n",
       "  'FEA_9': [26, 28, 35, 39, 49, 54],\n",
       "  'FEA_15': [1]},\n",
       " 'woes': {'FEA_0': {'value': array([0, 1, 2, 3], dtype=int64),\n",
       "   'woe': array([ 0.74193734,  0.4504165 , -0.25131443, -1.14133723])},\n",
       "  'FEA_1': {'value': array([0, 1, 2, 3, 4, 5, 6, 7], dtype=int64),\n",
       "   'woe': array([-1.08422355, -0.47957308, -0.04771547, -0.90190199,  0.2382338 ,\n",
       "          -0.03800933,  0.61245827,  1.09415794])},\n",
       "  'FEA_2': {'value': array([0, 1, 2, 3], dtype=int64),\n",
       "   'woe': array([ 1.21502264,  0.05742105,  0.12945807, -0.67990195])},\n",
       "  'FEA_3': {'value': array([0, 1, 2], dtype=int64),\n",
       "   'woe': array([ 0.24550046, -0.51196783,  0.54252135])},\n",
       "  'FEA_4': {'value': array([0, 1, 2, 3], dtype=int64),\n",
       "   'woe': array([ 0.26892619,  0.0588405 , -1.08422355, -0.62860866])},\n",
       "  'FEA_5': {'value': array([0, 1, 2, 3, 4], dtype=int64),\n",
       "   'woe': array([ 0.0588405 ,  0.36350091,  0.02290849, -0.31383479, -0.09180755])},\n",
       "  'FEA_6': {'value': array([0, 1], dtype=int64),\n",
       "   'woe': array([ 0.24309817, -0.14397287])},\n",
       "  'FEA_8': {'value': array([0, 1, 2, 3], dtype=int64),\n",
       "   'woe': array([-0.45198512, -0.08919558,  0.07208573,  0.6061358 ])},\n",
       "  'FEA_9': {'value': array([0, 1, 2, 3, 4, 5, 6], dtype=int64),\n",
       "   'woe': array([ 0.60734719, -0.26870617,  0.13864649, -0.73682224, -0.10821358,\n",
       "          -0.32277339, -0.19415601])},\n",
       "  'FEA_10': {'value': array([0, 1], dtype=int64),\n",
       "   'woe': array([ 0.45783309, -0.08094304])},\n",
       "  'FEA_14': {'value': array([0]), 'woe': array([0.])},\n",
       "  'FEA_15': {'value': array([0, 1], dtype=int64),\n",
       "   'woe': array([-0.13353139,  0.42183209])},\n",
       "  'FEA_16': {'value': array([0, 1], dtype=int64),\n",
       "   'woe': array([ 0.06831924, -0.73088751])},\n",
       "  'FEA_18': {'value': array([0]), 'woe': array([0.])},\n",
       "  'FEA_20': {'value': array([0, 1], dtype=int64),\n",
       "   'woe': array([ 0.35086097, -0.16236694])}}}"
      ]
     },
     "execution_count": 18,
     "metadata": {},
     "output_type": "execute_result"
    }
   ],
   "source": [
    "configs"
   ]
  },
  {
   "cell_type": "markdown",
   "metadata": {},
   "source": [
    "### Fit Model"
   ]
  },
  {
   "cell_type": "code",
   "execution_count": 19,
   "metadata": {},
   "outputs": [
    {
     "data": {
      "image/png": "[encoded data removed]",
      "text/plain": [
       "<Figure size 720x720 with 1 Axes>"
      ]
     },
     "metadata": {},
     "output_type": "display_data"
    },
    {
     "name": "stdout",
     "output_type": "stream",
     "text": [
      "KS train/test 0.491, 0.470\n"
     ]
    }
   ],
   "source": [
    "test_woe_step = test_ivs[train_woe_step.columns]\n",
    "clf = LogisticRegression(penalty=\"elasticnet\", \n",
    "                        C=0.1,\n",
    "                        solver=\"saga\", n_jobs=6,\n",
    "                        l1_ratio=0.3)\n",
    "\n",
    "clf.fit(train_woe_step, y_train)\n",
    "\n",
    "y_train_pred = clf.predict_proba(train_woe_step)[:,1]\n",
    "y_test_pred = clf.predict_proba(test_woe_step)[:,1]\n",
    "\n",
    "tt = get_RocCurve(y_train, y_train_pred,\n",
    "                 with_test=True,\n",
    "                 y_test_true=y_test,\n",
    "                 y_test_prob=y_test_pred)\n",
    "thred = get_threshold(y_train, y_train_pred)\n",
    "train_ks = get_KS(y_train, y_train_pred, thred)\n",
    "test_ks = get_KS(y_test, y_test_pred, thred)\n",
    "print(\"KS train/test {:.3f}, {:.3f}\".format(train_ks, test_ks))"
   ]
  },
  {
   "cell_type": "code",
   "execution_count": 20,
   "metadata": {},
   "outputs": [],
   "source": [
    "import pickle\n",
    "with open( \"lr_model_no_zero\",\"wb\") as f:\n",
    "    pickle.dump(clf, f)"
   ]
  },
  {
   "cell_type": "code",
   "execution_count": 21,
   "metadata": {},
   "outputs": [
    {
     "data": {
      "text/plain": [
       "0.09530062106392603"
      ]
     },
     "execution_count": 21,
     "metadata": {},
     "output_type": "execute_result"
    }
   ],
   "source": [
    "# psi from toad.metrics\n",
    "psi = toad.metrics.PSI(y_test_pred, y_train_pred)\n",
    "psi"
   ]
  },
  {
   "cell_type": "code",
   "execution_count": 22,
   "metadata": {},
   "outputs": [],
   "source": [
    "from utils import PSI\n",
    "# psi from utils\n",
    "psi_, detail, bins = PSI(y_train_pred, y_test_pred,length=10, return_bins=True, equal=\"freq\")"
   ]
  },
  {
   "cell_type": "code",
   "execution_count": 23,
   "metadata": {},
   "outputs": [
    {
     "data": {
      "text/plain": [
       "0.04090257311619848"
      ]
     },
     "execution_count": 23,
     "metadata": {},
     "output_type": "execute_result"
    }
   ],
   "source": [
    "psi_"
   ]
  },
  {
   "cell_type": "code",
   "execution_count": null,
   "metadata": {},
   "outputs": [],
   "source": []
  }
 ],
 "metadata": {
  "kernelspec": {
   "display_name": "Python 3",
   "language": "python",
   "name": "python3"
  },
  "language_info": {
   "codemirror_mode": {
    "name": "ipython",
    "version": 3
   },
   "file_extension": ".py",
   "mimetype": "text/x-python",
   "name": "python",
   "nbconvert_exporter": "python",
   "pygments_lexer": "ipython3",
   "version": "3.8.8"
  }
 },
 "nbformat": 4,
 "nbformat_minor": 4
}
